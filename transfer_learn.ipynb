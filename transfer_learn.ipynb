{
  "nbformat": 4,
  "nbformat_minor": 0,
  "metadata": {
    "colab": {
      "name": "transfer learn",
      "provenance": [],
      "collapsed_sections": [],
      "include_colab_link": true
    },
    "kernelspec": {
      "name": "python3",
      "display_name": "Python 3"
    },
    "accelerator": "GPU"
  },
  "cells": [
    {
      "cell_type": "markdown",
      "metadata": {
        "id": "view-in-github",
        "colab_type": "text"
      },
      "source": [
        "<a href=\"https://colab.research.google.com/github/chriswill88/holbertonschool-machine_learning/blob/master/transfer_learn.ipynb\" target=\"_parent\"><img src=\"https://colab.research.google.com/assets/colab-badge.svg\" alt=\"Open In Colab\"/></a>"
      ]
    },
    {
      "cell_type": "code",
      "metadata": {
        "id": "FEmhjriIdt6o",
        "colab_type": "code",
        "colab": {
          "base_uri": "https://localhost:8080/",
          "height": 33
        },
        "outputId": "2a1ff4d7-3230-42f6-fc6f-9ff1dc1fc9e1"
      },
      "source": [
        "%tensorflow_version 1.x\n",
        "import tensorflow as tf\n",
        "import tensorflow.keras as K\n",
        "import numpy as np\n",
        "import matplotlib.pyplot as plt\n"
      ],
      "execution_count": 1,
      "outputs": [
        {
          "output_type": "stream",
          "text": [
            "TensorFlow 1.x selected.\n"
          ],
          "name": "stdout"
        }
      ]
    },
    {
      "cell_type": "code",
      "metadata": {
        "id": "oORDO9675ikN",
        "colab_type": "code",
        "colab": {
          "base_uri": "https://localhost:8080/",
          "height": 33
        },
        "outputId": "c2899a5f-ba9a-4119-d5cf-6b3c6d63d4db"
      },
      "source": [
        "from google.colab import drive\n",
        "drive.mount('/content/drive')"
      ],
      "execution_count": 2,
      "outputs": [
        {
          "output_type": "stream",
          "text": [
            "Drive already mounted at /content/drive; to attempt to forcibly remount, call drive.mount(\"/content/drive\", force_remount=True).\n"
          ],
          "name": "stdout"
        }
      ]
    },
    {
      "cell_type": "code",
      "metadata": {
        "id": "OJKNWURNfc-C",
        "colab_type": "code",
        "colab": {}
      },
      "source": [
        "def preprocess_data(X, Y):\n",
        "  \"\"\"\n",
        "    pre-processes the data for your model:\n",
        "\n",
        "    X is a numpy.ndarray of shape (m, 32, 32, 3) containing the CIFAR 10 data,\n",
        "      where m is the number of data points\n",
        "    Y is a numpy.ndarray of shape (m,) containing the CIFAR 10 labels for X\n",
        "    Returns: X_p, Y_p\n",
        "    X_p is a numpy.ndarray containing the preprocessed X\n",
        "    Y_p is a numpy.ndarray containing the preprocessed Y\n",
        "\n",
        "    one hot incoding for Yww\n",
        "    resize X for the model\n",
        "  \"\"\"\n",
        "  # one hot y\n",
        "  encoded_Y = K.utils.to_categorical(Y)\n",
        "\n",
        "  # Normalize images\n",
        "  X = X.astype('float32')\n",
        "  X /= 255\n",
        "\n",
        "  # rescalining done in model\n",
        "  return X, encoded_Y"
      ],
      "execution_count": 3,
      "outputs": []
    },
    {
      "cell_type": "code",
      "metadata": {
        "id": "OL6vyDB-fLty",
        "colab_type": "code",
        "colab": {}
      },
      "source": [
        "def vgg(inp_t):\n",
        "  \"\"\"vgg creates and configure the vgg16 model\"\"\"\n",
        "  i = 0\n",
        "  out = K.layers.Input(inp_t)\n",
        "  out = K.layers.Lambda(lambda image: K.backend.resize_images(image, 7, 7, \"channels_last\"))(out)\n",
        "\n",
        "  vgg = K.applications.vgg16.VGG16(\n",
        "      include_top=False, weights='imagenet', input_tensor=out\n",
        "  )\n",
        "\n",
        "  output = vgg.layers[-1].output\n",
        "  output = K.layers.Flatten()(output)\n",
        "  vgg_model = K.models.Model(vgg.input, output)\n",
        "\n",
        "  vgg_model.trainable = True\n",
        "  for layer in vgg_model.layers:\n",
        "    if i < 11:\n",
        "      layer.trainable = False\n",
        "    i += 1\n",
        "\n",
        "  for i in vgg.layers:\n",
        "      print(i.name, i.trainable)\n",
        "  return vgg_model"
      ],
      "execution_count": 4,
      "outputs": []
    },
    {
      "cell_type": "code",
      "metadata": {
        "id": "mhaILSCweZR2",
        "colab_type": "code",
        "colab": {
          "base_uri": "https://localhost:8080/",
          "height": 1000
        },
        "outputId": "ea91b500-da07-4c09-965b-baa429ba412d"
      },
      "source": [
        "if __name__ == \"__main__\":\n",
        "  ktf = K.backend\n",
        "  (X_t, Y_t), (X_v, Y_v) = K.datasets.cifar10.load_data()\n",
        "\n",
        "  X_T, Y_T = preprocess_data(X_t, Y_t)\n",
        "  X_V, Y_V = preprocess_data(X_v, Y_v)\n",
        "\n",
        "  inp_t = X_T.shape[1:]\n",
        "  inp_v = X_V.shape\n",
        "\n",
        "  vg = vgg(inp_t)\n",
        "  vg.summary()"
      ],
      "execution_count": 5,
      "outputs": [
        {
          "output_type": "stream",
          "text": [
            "WARNING:tensorflow:From /tensorflow-1.15.2/python3.6/tensorflow_core/python/ops/resource_variable_ops.py:1630: calling BaseResourceVariable.__init__ (from tensorflow.python.ops.resource_variable_ops) with constraint is deprecated and will be removed in a future version.\n",
            "Instructions for updating:\n",
            "If using Keras pass *_constraint arguments to layers.\n",
            "input_1 False\n",
            "lambda False\n",
            "block1_conv1 False\n",
            "block1_conv2 False\n",
            "block1_pool False\n",
            "block2_conv1 False\n",
            "block2_conv2 False\n",
            "block2_pool False\n",
            "block3_conv1 False\n",
            "block3_conv2 False\n",
            "block3_conv3 False\n",
            "block3_pool True\n",
            "block4_conv1 True\n",
            "block4_conv2 True\n",
            "block4_conv3 True\n",
            "block4_pool True\n",
            "block5_conv1 True\n",
            "block5_conv2 True\n",
            "block5_conv3 True\n",
            "block5_pool True\n",
            "Model: \"model\"\n",
            "_________________________________________________________________\n",
            "Layer (type)                 Output Shape              Param #   \n",
            "=================================================================\n",
            "input_1 (InputLayer)         [(None, 32, 32, 3)]       0         \n",
            "_________________________________________________________________\n",
            "lambda (Lambda)              (None, 224, 224, 3)       0         \n",
            "_________________________________________________________________\n",
            "block1_conv1 (Conv2D)        (None, 224, 224, 64)      1792      \n",
            "_________________________________________________________________\n",
            "block1_conv2 (Conv2D)        (None, 224, 224, 64)      36928     \n",
            "_________________________________________________________________\n",
            "block1_pool (MaxPooling2D)   (None, 112, 112, 64)      0         \n",
            "_________________________________________________________________\n",
            "block2_conv1 (Conv2D)        (None, 112, 112, 128)     73856     \n",
            "_________________________________________________________________\n",
            "block2_conv2 (Conv2D)        (None, 112, 112, 128)     147584    \n",
            "_________________________________________________________________\n",
            "block2_pool (MaxPooling2D)   (None, 56, 56, 128)       0         \n",
            "_________________________________________________________________\n",
            "block3_conv1 (Conv2D)        (None, 56, 56, 256)       295168    \n",
            "_________________________________________________________________\n",
            "block3_conv2 (Conv2D)        (None, 56, 56, 256)       590080    \n",
            "_________________________________________________________________\n",
            "block3_conv3 (Conv2D)        (None, 56, 56, 256)       590080    \n",
            "_________________________________________________________________\n",
            "block3_pool (MaxPooling2D)   (None, 28, 28, 256)       0         \n",
            "_________________________________________________________________\n",
            "block4_conv1 (Conv2D)        (None, 28, 28, 512)       1180160   \n",
            "_________________________________________________________________\n",
            "block4_conv2 (Conv2D)        (None, 28, 28, 512)       2359808   \n",
            "_________________________________________________________________\n",
            "block4_conv3 (Conv2D)        (None, 28, 28, 512)       2359808   \n",
            "_________________________________________________________________\n",
            "block4_pool (MaxPooling2D)   (None, 14, 14, 512)       0         \n",
            "_________________________________________________________________\n",
            "block5_conv1 (Conv2D)        (None, 14, 14, 512)       2359808   \n",
            "_________________________________________________________________\n",
            "block5_conv2 (Conv2D)        (None, 14, 14, 512)       2359808   \n",
            "_________________________________________________________________\n",
            "block5_conv3 (Conv2D)        (None, 14, 14, 512)       2359808   \n",
            "_________________________________________________________________\n",
            "block5_pool (MaxPooling2D)   (None, 7, 7, 512)         0         \n",
            "_________________________________________________________________\n",
            "flatten (Flatten)            (None, 25088)             0         \n",
            "=================================================================\n",
            "Total params: 14,714,688\n",
            "Trainable params: 12,979,200\n",
            "Non-trainable params: 1,735,488\n",
            "_________________________________________________________________\n"
          ],
          "name": "stdout"
        }
      ]
    },
    {
      "cell_type": "code",
      "metadata": {
        "id": "xWtboZpoNu17",
        "colab_type": "code",
        "colab": {}
      },
      "source": [
        "train_datagen = K.preprocessing.image.ImageDataGenerator(zoom_range=0.3, rotation_range=50,\n",
        "                                   width_shift_range=0.2, height_shift_range=0.2, shear_range=0.2, \n",
        "                                   horizontal_flip=True, fill_mode='nearest')\n",
        "\n",
        "val_datagen = K.preprocessing.image.ImageDataGenerator()\n",
        "\n",
        "train_generator = train_datagen.flow(X_T, Y_T, batch_size=110)\n",
        "val_generator = val_datagen.flow(X_V, Y_V, batch_size=110)"
      ],
      "execution_count": 6,
      "outputs": []
    },
    {
      "cell_type": "code",
      "metadata": {
        "id": "3h0W2nwBIqdo",
        "colab_type": "code",
        "colab": {
          "base_uri": "https://localhost:8080/",
          "height": 342
        },
        "outputId": "f045f885-ded5-481e-8a0e-507db8069c31"
      },
      "source": [
        "input_shape = vg.output_shape[1]\n",
        "\n",
        "model = K.models.Sequential()\n",
        "model.add(vg)\n",
        "model.add(K.layers.Dense(512, activation='relu', input_dim=input_shape))\n",
        "model.add(K.layers.Dropout(0.3))\n",
        "model.add(K.layers.Dense(512, activation='relu'))\n",
        "model.add(K.layers.Dropout(0.3))\n",
        "model.add(K.layers.Dense(10, activation='softmax'))\n",
        "\n",
        "model.compile(loss='categorical_crossentropy',\n",
        "              optimizer=K.optimizers.Adam(lr=2e-5),\n",
        "              metrics=['accuracy'])\n",
        "\n",
        "model.summary()\n"
      ],
      "execution_count": 7,
      "outputs": [
        {
          "output_type": "stream",
          "text": [
            "Model: \"sequential\"\n",
            "_________________________________________________________________\n",
            "Layer (type)                 Output Shape              Param #   \n",
            "=================================================================\n",
            "model (Model)                (None, 25088)             14714688  \n",
            "_________________________________________________________________\n",
            "dense (Dense)                (None, 512)               12845568  \n",
            "_________________________________________________________________\n",
            "dropout (Dropout)            (None, 512)               0         \n",
            "_________________________________________________________________\n",
            "dense_1 (Dense)              (None, 512)               262656    \n",
            "_________________________________________________________________\n",
            "dropout_1 (Dropout)          (None, 512)               0         \n",
            "_________________________________________________________________\n",
            "dense_2 (Dense)              (None, 10)                5130      \n",
            "=================================================================\n",
            "Total params: 27,828,042\n",
            "Trainable params: 26,092,554\n",
            "Non-trainable params: 1,735,488\n",
            "_________________________________________________________________\n"
          ],
          "name": "stdout"
        }
      ]
    },
    {
      "cell_type": "code",
      "metadata": {
        "id": "MYbX1u3KU7Qr",
        "colab_type": "code",
        "colab": {
          "base_uri": "https://localhost:8080/",
          "height": 50
        },
        "outputId": "caf8cec8-37d9-4437-ac37-e001b006ebaa"
      },
      "source": [
        "history = model.fit_generator(\n",
        "    train_generator, steps_per_epoch=1000, epochs=20,\n",
        "    validation_data=val_generator, validation_steps=100,\n",
        "    verbose=1)         \n"
      ],
      "execution_count": null,
      "outputs": [
        {
          "output_type": "stream",
          "text": [
            "Epoch 1/20\n",
            " 180/1000 [====>.........................] - ETA: 10:52 - loss: 2.0205 - acc: 0.2556"
          ],
          "name": "stdout"
        }
      ]
    },
    {
      "cell_type": "code",
      "metadata": {
        "id": "O014MZ4KdsOd",
        "colab_type": "code",
        "colab": {}
      },
      "source": [
        "loss_train = history.history['loss']\n",
        "loss_val = history.history['val_loss']\n",
        "epochs = range(0, 20)\n",
        "plt.plot(epochs, loss_train, 'r', label='Training loss')\n",
        "plt.plot(epochs, loss_val, 'b', label='validation loss')\n",
        "plt.title('Training and Validation loss')\n",
        "plt.xlabel('Epochs')\n",
        "plt.ylabel('Loss')\n",
        "plt.legend()\n",
        "plt.show()\n",
        "\n",
        "acc = history.history['acc']\n",
        "acc_val = history.history['val_acc']\n",
        "epochs = range(0, 20)\n",
        "plt.plot(epochs, acc, 'r', label='Training accuracy')\n",
        "plt.plot(epochs, acc_val, 'b', label='validation accuracy')\n",
        "plt.title('Training and Validation accuracy')\n",
        "plt.xlabel('Epochs')\n",
        "plt.ylabel('Loss')\n",
        "plt.legend()\n",
        "plt.show()"
      ],
      "execution_count": null,
      "outputs": []
    },
    {
      "cell_type": "code",
      "metadata": {
        "id": "6nIOP6YlGr5c",
        "colab_type": "code",
        "colab": {}
      },
      "source": [
        "mood = K.models.load_model('/content/drive/My Drive/cifar10.h5')\n",
        "\n",
        "model.save('cifar10.h5')"
      ],
      "execution_count": null,
      "outputs": []
    },
    {
      "cell_type": "code",
      "metadata": {
        "id": "Atq7-s2leVVJ",
        "colab_type": "code",
        "colab": {}
      },
      "source": [
        "# fix issue with saving keras applications\n",
        "\n",
        "K.learning_phase = K.backend.learning_phase\n",
        "_, (X, Y) = K.datasets.cifar10.load_data()\n",
        "X_p, Y_p = preprocess_data(X, Y)\n",
        "mood = K.models.load_model('cifar10.h5')\n",
        "\n",
        "mood.evaluate(X_p, Y_p, batch_size=128, verbose=1)\n"
      ],
      "execution_count": null,
      "outputs": []
    }
  ]
}